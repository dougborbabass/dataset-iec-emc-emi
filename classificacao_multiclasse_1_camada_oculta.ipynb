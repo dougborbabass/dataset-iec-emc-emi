{
 "cells": [
  {
   "cell_type": "code",
   "execution_count": 177,
   "metadata": {},
   "outputs": [],
   "source": [
    "import tensorflow as tf\n",
    "import numpy as np\n",
    "import pandas as pd"
   ]
  },
  {
   "cell_type": "code",
   "execution_count": 178,
   "metadata": {
    "slideshow": {
     "slide_type": "notes"
    }
   },
   "outputs": [
    {
     "data": {
      "text/html": [
       "<div>\n",
       "<style scoped>\n",
       "    .dataframe tbody tr th:only-of-type {\n",
       "        vertical-align: middle;\n",
       "    }\n",
       "\n",
       "    .dataframe tbody tr th {\n",
       "        vertical-align: top;\n",
       "    }\n",
       "\n",
       "    .dataframe thead th {\n",
       "        text-align: right;\n",
       "    }\n",
       "</style>\n",
       "<table border=\"1\" class=\"dataframe\">\n",
       "  <thead>\n",
       "    <tr style=\"text-align: right;\">\n",
       "      <th></th>\n",
       "      <th>Amostra 1</th>\n",
       "      <th>Amostra 2</th>\n",
       "      <th>Amostra 3</th>\n",
       "      <th>Amostra 4</th>\n",
       "      <th>Amostra 5</th>\n",
       "      <th>Amostra 6</th>\n",
       "      <th>Amostra 7</th>\n",
       "      <th>Amostra 8</th>\n",
       "      <th>Amostra 9</th>\n",
       "      <th>Amostra 10</th>\n",
       "      <th>...</th>\n",
       "      <th>Amostra 183</th>\n",
       "      <th>Amostra 184</th>\n",
       "      <th>Amostra 185</th>\n",
       "      <th>Amostra 186</th>\n",
       "      <th>Amostra 187</th>\n",
       "      <th>Amostra 188</th>\n",
       "      <th>Amostra 189</th>\n",
       "      <th>Amostra 190</th>\n",
       "      <th>Amostra 191</th>\n",
       "      <th>Forma de onda</th>\n",
       "    </tr>\n",
       "  </thead>\n",
       "  <tbody>\n",
       "    <tr>\n",
       "      <th>0</th>\n",
       "      <td>3.300</td>\n",
       "      <td>3.300</td>\n",
       "      <td>3.300</td>\n",
       "      <td>3.300</td>\n",
       "      <td>3.300</td>\n",
       "      <td>3.300</td>\n",
       "      <td>3.300</td>\n",
       "      <td>3.300</td>\n",
       "      <td>3.300</td>\n",
       "      <td>3.300</td>\n",
       "      <td>...</td>\n",
       "      <td>3.300</td>\n",
       "      <td>3.300</td>\n",
       "      <td>3.300</td>\n",
       "      <td>3.300</td>\n",
       "      <td>3.300</td>\n",
       "      <td>3.300</td>\n",
       "      <td>3.300</td>\n",
       "      <td>3.300</td>\n",
       "      <td>3.300</td>\n",
       "      <td>1.0</td>\n",
       "    </tr>\n",
       "    <tr>\n",
       "      <th>1</th>\n",
       "      <td>3.300</td>\n",
       "      <td>3.300</td>\n",
       "      <td>3.300</td>\n",
       "      <td>3.300</td>\n",
       "      <td>3.300</td>\n",
       "      <td>3.300</td>\n",
       "      <td>3.300</td>\n",
       "      <td>3.300</td>\n",
       "      <td>3.300</td>\n",
       "      <td>3.300</td>\n",
       "      <td>...</td>\n",
       "      <td>3.300</td>\n",
       "      <td>3.300</td>\n",
       "      <td>3.300</td>\n",
       "      <td>3.300</td>\n",
       "      <td>3.300</td>\n",
       "      <td>3.300</td>\n",
       "      <td>3.300</td>\n",
       "      <td>3.300</td>\n",
       "      <td>3.300</td>\n",
       "      <td>1.0</td>\n",
       "    </tr>\n",
       "    <tr>\n",
       "      <th>2</th>\n",
       "      <td>3.300</td>\n",
       "      <td>3.300</td>\n",
       "      <td>3.300</td>\n",
       "      <td>3.300</td>\n",
       "      <td>3.300</td>\n",
       "      <td>3.300</td>\n",
       "      <td>3.300</td>\n",
       "      <td>3.300</td>\n",
       "      <td>3.300</td>\n",
       "      <td>3.300</td>\n",
       "      <td>...</td>\n",
       "      <td>3.300</td>\n",
       "      <td>3.300</td>\n",
       "      <td>3.300</td>\n",
       "      <td>3.300</td>\n",
       "      <td>3.300</td>\n",
       "      <td>3.300</td>\n",
       "      <td>3.300</td>\n",
       "      <td>3.300</td>\n",
       "      <td>3.300</td>\n",
       "      <td>1.0</td>\n",
       "    </tr>\n",
       "    <tr>\n",
       "      <th>3</th>\n",
       "      <td>3.300</td>\n",
       "      <td>3.300</td>\n",
       "      <td>3.300</td>\n",
       "      <td>3.300</td>\n",
       "      <td>3.300</td>\n",
       "      <td>3.300</td>\n",
       "      <td>3.300</td>\n",
       "      <td>3.300</td>\n",
       "      <td>3.300</td>\n",
       "      <td>3.300</td>\n",
       "      <td>...</td>\n",
       "      <td>3.300</td>\n",
       "      <td>3.300</td>\n",
       "      <td>3.300</td>\n",
       "      <td>3.300</td>\n",
       "      <td>3.300</td>\n",
       "      <td>3.300</td>\n",
       "      <td>3.300</td>\n",
       "      <td>3.300</td>\n",
       "      <td>3.300</td>\n",
       "      <td>1.0</td>\n",
       "    </tr>\n",
       "    <tr>\n",
       "      <th>4</th>\n",
       "      <td>3.300</td>\n",
       "      <td>3.300</td>\n",
       "      <td>3.300</td>\n",
       "      <td>3.300</td>\n",
       "      <td>3.300</td>\n",
       "      <td>3.300</td>\n",
       "      <td>3.300</td>\n",
       "      <td>3.300</td>\n",
       "      <td>3.300</td>\n",
       "      <td>3.300</td>\n",
       "      <td>...</td>\n",
       "      <td>3.300</td>\n",
       "      <td>3.300</td>\n",
       "      <td>3.300</td>\n",
       "      <td>3.300</td>\n",
       "      <td>3.300</td>\n",
       "      <td>3.300</td>\n",
       "      <td>3.300</td>\n",
       "      <td>3.300</td>\n",
       "      <td>3.300</td>\n",
       "      <td>1.0</td>\n",
       "    </tr>\n",
       "    <tr>\n",
       "      <th>...</th>\n",
       "      <td>...</td>\n",
       "      <td>...</td>\n",
       "      <td>...</td>\n",
       "      <td>...</td>\n",
       "      <td>...</td>\n",
       "      <td>...</td>\n",
       "      <td>...</td>\n",
       "      <td>...</td>\n",
       "      <td>...</td>\n",
       "      <td>...</td>\n",
       "      <td>...</td>\n",
       "      <td>...</td>\n",
       "      <td>...</td>\n",
       "      <td>...</td>\n",
       "      <td>...</td>\n",
       "      <td>...</td>\n",
       "      <td>...</td>\n",
       "      <td>...</td>\n",
       "      <td>...</td>\n",
       "      <td>...</td>\n",
       "      <td>...</td>\n",
       "    </tr>\n",
       "    <tr>\n",
       "      <th>423</th>\n",
       "      <td>2.388</td>\n",
       "      <td>2.549</td>\n",
       "      <td>2.543</td>\n",
       "      <td>2.438</td>\n",
       "      <td>2.465</td>\n",
       "      <td>2.535</td>\n",
       "      <td>2.528</td>\n",
       "      <td>2.527</td>\n",
       "      <td>2.366</td>\n",
       "      <td>2.414</td>\n",
       "      <td>...</td>\n",
       "      <td>2.534</td>\n",
       "      <td>2.475</td>\n",
       "      <td>2.315</td>\n",
       "      <td>2.349</td>\n",
       "      <td>2.498</td>\n",
       "      <td>2.474</td>\n",
       "      <td>2.484</td>\n",
       "      <td>2.490</td>\n",
       "      <td>2.524</td>\n",
       "      <td>8.0</td>\n",
       "    </tr>\n",
       "    <tr>\n",
       "      <th>424</th>\n",
       "      <td>3.147</td>\n",
       "      <td>3.149</td>\n",
       "      <td>3.284</td>\n",
       "      <td>3.396</td>\n",
       "      <td>3.323</td>\n",
       "      <td>3.038</td>\n",
       "      <td>3.242</td>\n",
       "      <td>3.352</td>\n",
       "      <td>3.087</td>\n",
       "      <td>3.239</td>\n",
       "      <td>...</td>\n",
       "      <td>3.150</td>\n",
       "      <td>3.162</td>\n",
       "      <td>3.089</td>\n",
       "      <td>3.071</td>\n",
       "      <td>3.210</td>\n",
       "      <td>3.120</td>\n",
       "      <td>3.122</td>\n",
       "      <td>3.098</td>\n",
       "      <td>3.078</td>\n",
       "      <td>8.0</td>\n",
       "    </tr>\n",
       "    <tr>\n",
       "      <th>425</th>\n",
       "      <td>3.488</td>\n",
       "      <td>3.259</td>\n",
       "      <td>3.411</td>\n",
       "      <td>3.336</td>\n",
       "      <td>3.202</td>\n",
       "      <td>3.283</td>\n",
       "      <td>3.263</td>\n",
       "      <td>3.472</td>\n",
       "      <td>3.202</td>\n",
       "      <td>3.450</td>\n",
       "      <td>...</td>\n",
       "      <td>3.300</td>\n",
       "      <td>3.285</td>\n",
       "      <td>3.411</td>\n",
       "      <td>3.220</td>\n",
       "      <td>3.443</td>\n",
       "      <td>3.438</td>\n",
       "      <td>3.356</td>\n",
       "      <td>3.451</td>\n",
       "      <td>3.188</td>\n",
       "      <td>8.0</td>\n",
       "    </tr>\n",
       "    <tr>\n",
       "      <th>426</th>\n",
       "      <td>3.372</td>\n",
       "      <td>3.328</td>\n",
       "      <td>3.281</td>\n",
       "      <td>3.244</td>\n",
       "      <td>3.224</td>\n",
       "      <td>3.217</td>\n",
       "      <td>3.098</td>\n",
       "      <td>3.248</td>\n",
       "      <td>3.426</td>\n",
       "      <td>3.290</td>\n",
       "      <td>...</td>\n",
       "      <td>3.281</td>\n",
       "      <td>3.151</td>\n",
       "      <td>3.222</td>\n",
       "      <td>3.106</td>\n",
       "      <td>3.327</td>\n",
       "      <td>3.229</td>\n",
       "      <td>3.274</td>\n",
       "      <td>3.352</td>\n",
       "      <td>3.220</td>\n",
       "      <td>8.0</td>\n",
       "    </tr>\n",
       "    <tr>\n",
       "      <th>427</th>\n",
       "      <td>3.258</td>\n",
       "      <td>3.406</td>\n",
       "      <td>3.223</td>\n",
       "      <td>3.154</td>\n",
       "      <td>3.346</td>\n",
       "      <td>3.271</td>\n",
       "      <td>3.353</td>\n",
       "      <td>3.450</td>\n",
       "      <td>3.312</td>\n",
       "      <td>3.279</td>\n",
       "      <td>...</td>\n",
       "      <td>3.054</td>\n",
       "      <td>3.276</td>\n",
       "      <td>3.375</td>\n",
       "      <td>3.227</td>\n",
       "      <td>3.220</td>\n",
       "      <td>3.297</td>\n",
       "      <td>3.217</td>\n",
       "      <td>3.384</td>\n",
       "      <td>3.184</td>\n",
       "      <td>8.0</td>\n",
       "    </tr>\n",
       "  </tbody>\n",
       "</table>\n",
       "<p>428 rows × 192 columns</p>\n",
       "</div>"
      ],
      "text/plain": [
       "     Amostra 1  Amostra 2  Amostra 3  Amostra 4  Amostra 5  Amostra 6  \\\n",
       "0        3.300      3.300      3.300      3.300      3.300      3.300   \n",
       "1        3.300      3.300      3.300      3.300      3.300      3.300   \n",
       "2        3.300      3.300      3.300      3.300      3.300      3.300   \n",
       "3        3.300      3.300      3.300      3.300      3.300      3.300   \n",
       "4        3.300      3.300      3.300      3.300      3.300      3.300   \n",
       "..         ...        ...        ...        ...        ...        ...   \n",
       "423      2.388      2.549      2.543      2.438      2.465      2.535   \n",
       "424      3.147      3.149      3.284      3.396      3.323      3.038   \n",
       "425      3.488      3.259      3.411      3.336      3.202      3.283   \n",
       "426      3.372      3.328      3.281      3.244      3.224      3.217   \n",
       "427      3.258      3.406      3.223      3.154      3.346      3.271   \n",
       "\n",
       "     Amostra 7  Amostra 8  Amostra 9  Amostra 10  ...  Amostra 183  \\\n",
       "0        3.300      3.300      3.300       3.300  ...        3.300   \n",
       "1        3.300      3.300      3.300       3.300  ...        3.300   \n",
       "2        3.300      3.300      3.300       3.300  ...        3.300   \n",
       "3        3.300      3.300      3.300       3.300  ...        3.300   \n",
       "4        3.300      3.300      3.300       3.300  ...        3.300   \n",
       "..         ...        ...        ...         ...  ...          ...   \n",
       "423      2.528      2.527      2.366       2.414  ...        2.534   \n",
       "424      3.242      3.352      3.087       3.239  ...        3.150   \n",
       "425      3.263      3.472      3.202       3.450  ...        3.300   \n",
       "426      3.098      3.248      3.426       3.290  ...        3.281   \n",
       "427      3.353      3.450      3.312       3.279  ...        3.054   \n",
       "\n",
       "     Amostra 184  Amostra 185  Amostra 186  Amostra 187  Amostra 188  \\\n",
       "0          3.300        3.300        3.300        3.300        3.300   \n",
       "1          3.300        3.300        3.300        3.300        3.300   \n",
       "2          3.300        3.300        3.300        3.300        3.300   \n",
       "3          3.300        3.300        3.300        3.300        3.300   \n",
       "4          3.300        3.300        3.300        3.300        3.300   \n",
       "..           ...          ...          ...          ...          ...   \n",
       "423        2.475        2.315        2.349        2.498        2.474   \n",
       "424        3.162        3.089        3.071        3.210        3.120   \n",
       "425        3.285        3.411        3.220        3.443        3.438   \n",
       "426        3.151        3.222        3.106        3.327        3.229   \n",
       "427        3.276        3.375        3.227        3.220        3.297   \n",
       "\n",
       "     Amostra 189  Amostra 190  Amostra 191  Forma de onda  \n",
       "0          3.300        3.300        3.300            1.0  \n",
       "1          3.300        3.300        3.300            1.0  \n",
       "2          3.300        3.300        3.300            1.0  \n",
       "3          3.300        3.300        3.300            1.0  \n",
       "4          3.300        3.300        3.300            1.0  \n",
       "..           ...          ...          ...            ...  \n",
       "423        2.484        2.490        2.524            8.0  \n",
       "424        3.122        3.098        3.078            8.0  \n",
       "425        3.356        3.451        3.188            8.0  \n",
       "426        3.274        3.352        3.220            8.0  \n",
       "427        3.217        3.384        3.184            8.0  \n",
       "\n",
       "[428 rows x 192 columns]"
      ]
     },
     "execution_count": 178,
     "metadata": {},
     "output_type": "execute_result"
    }
   ],
   "source": [
    "base = pd.read_csv('iec6100429.csv')\n",
    "base"
   ]
  },
  {
   "cell_type": "code",
   "execution_count": 179,
   "metadata": {},
   "outputs": [],
   "source": [
    "x = base.drop('Forma de onda', axis=1) # atributos previsores\n",
    "y = base.iloc[:,-1] # pegando a ultima coluna para saber qual a classe"
   ]
  },
  {
   "cell_type": "code",
   "execution_count": 181,
   "metadata": {},
   "outputs": [
    {
     "data": {
      "text/plain": [
       "0      1.0\n",
       "1      1.0\n",
       "2      1.0\n",
       "3      1.0\n",
       "4      1.0\n",
       "      ... \n",
       "423    8.0\n",
       "424    8.0\n",
       "425    8.0\n",
       "426    8.0\n",
       "427    8.0\n",
       "Name: Forma de onda, Length: 428, dtype: float64"
      ]
     },
     "execution_count": 181,
     "metadata": {},
     "output_type": "execute_result"
    }
   ],
   "source": [
    "from sklearn.preprocessing import OneHotEncoder\n",
    "onehot = OneHotEncoder(categories = 'auto')\n",
    "y.shape"
   ]
  },
  {
   "cell_type": "code",
   "execution_count": 182,
   "metadata": {},
   "outputs": [
    {
     "data": {
      "text/plain": [
       "(428, 1)"
      ]
     },
     "execution_count": 182,
     "metadata": {},
     "output_type": "execute_result"
    }
   ],
   "source": [
    "y = y.values.reshape(-1,1)\n",
    "y.shape"
   ]
  },
  {
   "cell_type": "code",
   "execution_count": 183,
   "metadata": {
    "scrolled": true
   },
   "outputs": [
    {
     "data": {
      "text/plain": [
       "array([[1., 0., 0., ..., 0., 0., 0.],\n",
       "       [1., 0., 0., ..., 0., 0., 0.],\n",
       "       [1., 0., 0., ..., 0., 0., 0.],\n",
       "       ...,\n",
       "       [0., 0., 0., ..., 0., 0., 1.],\n",
       "       [0., 0., 0., ..., 0., 0., 1.],\n",
       "       [0., 0., 0., ..., 0., 0., 1.]])"
      ]
     },
     "execution_count": 183,
     "metadata": {},
     "output_type": "execute_result"
    }
   ],
   "source": [
    "y = onehot.fit_transform(y).toarray()\n",
    "y.shape"
   ]
  },
  {
   "cell_type": "code",
   "execution_count": 184,
   "metadata": {},
   "outputs": [],
   "source": [
    "from sklearn.model_selection import train_test_split\n",
    "x_treinamento, x_teste, y_treinamento, y_teste = train_test_split(x, y, test_size = 0.5)"
   ]
  },
  {
   "cell_type": "code",
   "execution_count": 185,
   "metadata": {},
   "outputs": [
    {
     "data": {
      "text/plain": [
       "((428, 191), (214, 191), (428, 8), (214, 8))"
      ]
     },
     "execution_count": 185,
     "metadata": {},
     "output_type": "execute_result"
    }
   ],
   "source": [
    "x.shape, x_teste.shape, y.shape, y_teste.shape"
   ]
  },
  {
   "cell_type": "code",
   "execution_count": 186,
   "metadata": {},
   "outputs": [
    {
     "data": {
      "text/plain": [
       "191"
      ]
     },
     "execution_count": 186,
     "metadata": {},
     "output_type": "execute_result"
    }
   ],
   "source": [
    "neuronios_entrada = x.shape[1]\n",
    "neuronios_entrada"
   ]
  },
  {
   "cell_type": "code",
   "execution_count": 187,
   "metadata": {},
   "outputs": [
    {
     "data": {
      "text/plain": [
       "99"
      ]
     },
     "execution_count": 187,
     "metadata": {},
     "output_type": "execute_result"
    }
   ],
   "source": [
    "neuronios_oculta = 99\n",
    "neuronios_oculta"
   ]
  },
  {
   "cell_type": "code",
   "execution_count": 188,
   "metadata": {},
   "outputs": [
    {
     "data": {
      "text/plain": [
       "8"
      ]
     },
     "execution_count": 188,
     "metadata": {},
     "output_type": "execute_result"
    }
   ],
   "source": [
    "neuronios_saida = y.shape[1]\n",
    "neuronios_saida"
   ]
  },
  {
   "cell_type": "code",
   "execution_count": 189,
   "metadata": {
    "scrolled": true
   },
   "outputs": [
    {
     "data": {
      "text/plain": [
       "{'oculta': <tf.Variable 'Variable_32:0' shape=(191, 99) dtype=float32_ref>,\n",
       " 'saida': <tf.Variable 'Variable_33:0' shape=(99, 8) dtype=float32_ref>}"
      ]
     },
     "execution_count": 189,
     "metadata": {},
     "output_type": "execute_result"
    }
   ],
   "source": [
    "w = {'oculta': tf.Variable(tf.random_normal([neuronios_entrada, neuronios_oculta])),\n",
    "     'saida': tf.Variable(tf.random_normal([neuronios_oculta, neuronios_saida]))}\n",
    "w"
   ]
  },
  {
   "cell_type": "code",
   "execution_count": 190,
   "metadata": {},
   "outputs": [
    {
     "data": {
      "text/plain": [
       "{'oculta': <tf.Variable 'Variable_34:0' shape=(99,) dtype=float32_ref>,\n",
       " 'saida': <tf.Variable 'Variable_35:0' shape=(8,) dtype=float32_ref>}"
      ]
     },
     "execution_count": 190,
     "metadata": {},
     "output_type": "execute_result"
    }
   ],
   "source": [
    "b = {'oculta': tf.Variable(tf.random_normal([neuronios_oculta])),\n",
    "     'saida': tf.Variable(tf.random_normal([neuronios_saida]))}\n",
    "b"
   ]
  },
  {
   "cell_type": "code",
   "execution_count": 191,
   "metadata": {},
   "outputs": [],
   "source": [
    "xph = tf.placeholder('float', [None, neuronios_entrada])\n",
    "yph = tf.placeholder('float', [None, neuronios_saida])"
   ]
  },
  {
   "cell_type": "code",
   "execution_count": 192,
   "metadata": {},
   "outputs": [],
   "source": [
    "def mlp(x, w, bias):\n",
    "    camada_oculta = tf.add(tf.matmul(x, w['oculta']), b['oculta'])\n",
    "    camada_oculta_ativacao = tf.nn.relu(camada_oculta)\n",
    "    camada_saida = tf.add(tf.matmul(camada_oculta_ativacao, w['saida']), b['saida'])\n",
    "    return camada_saida"
   ]
  },
  {
   "cell_type": "code",
   "execution_count": 193,
   "metadata": {},
   "outputs": [],
   "source": [
    "modelo = mlp(xph, w, b)"
   ]
  },
  {
   "cell_type": "code",
   "execution_count": 194,
   "metadata": {},
   "outputs": [],
   "source": [
    "erro = tf.reduce_mean(tf.nn.softmax_cross_entropy_with_logits_v2(logits = modelo, labels = yph))\n",
    "otimizador = tf.train.AdamOptimizer(learning_rate = 0.0001).minimize(erro)"
   ]
  },
  {
   "cell_type": "code",
   "execution_count": 195,
   "metadata": {},
   "outputs": [
    {
     "data": {
      "text/plain": [
       "(21, 214)"
      ]
     },
     "execution_count": 195,
     "metadata": {},
     "output_type": "execute_result"
    }
   ],
   "source": [
    "batch_size = 10\n",
    "batch_total = int(len(x_treinamento) / batch_size)\n",
    "batch_total, (len(x_treinamento))"
   ]
  },
  {
   "cell_type": "code",
   "execution_count": 196,
   "metadata": {},
   "outputs": [],
   "source": [
    "x_batches = np.array_split(x_treinamento, batch_total)"
   ]
  },
  {
   "cell_type": "code",
   "execution_count": 197,
   "metadata": {},
   "outputs": [
    {
     "name": "stdout",
     "output_type": "stream",
     "text": [
      "Época: 1 erro: 33959.354104178296\n",
      "Época: 501 erro: 2.590873248431654\n",
      "Época: 1001 erro: 0.9202324795714092\n",
      "Época: 1501 erro: 0.5848320351949605\n",
      "Época: 2001 erro: 0.39346649400663186\n",
      "Época: 2501 erro: 0.19438440823656072\n",
      "Época: 3001 erro: 0.09195275933591332\n",
      "Época: 3501 erro: 0.06094527597260409\n",
      "Época: 4001 erro: 0.05476416707502182\n",
      "Época: 4501 erro: 0.05196219869318546\n",
      "Época: 5001 erro: 0.04970985508560673\n",
      "0.9018692\n"
     ]
    }
   ],
   "source": [
    "with tf.Session() as sess:\n",
    "    sess.run(tf.global_variables_initializer())\n",
    "    for epoca in range(5001):\n",
    "        erro_medio = 0.0\n",
    "        batch_total = int(len(x_treinamento) / batch_size)\n",
    "        x_batches = np.array_split(x_treinamento, batch_total)\n",
    "        y_batches = np.array_split(y_treinamento, batch_total)\n",
    "        for i in range(batch_total):\n",
    "            x_batch, y_batch = x_batches[i], y_batches[i]\n",
    "            _, custo = sess.run([otimizador, erro], feed_dict = {xph: x_batch, yph: y_batch})\n",
    "            erro_medio += custo / batch_total\n",
    "        if epoca % 500 == 0:\n",
    "            print('Época: ' + str(epoca+1) + ' erro: '+ str(erro_medio))\n",
    "    w_final, b_final = sess.run([w,b])\n",
    "    previsoes = tf.nn.softmax(mlp(xph, w_final, b_final))\n",
    "    previsoes_corretas = tf.equal(tf.argmax(previsoes, 1), tf.argmax(yph, 1))\n",
    "    taxa_acerto = tf.reduce_mean(tf.cast(previsoes_corretas, tf.float32))\n",
    "    print(sess.run(taxa_acerto, feed_dict = {xph: x_teste, yph: y_teste}))\n",
    "    "
   ]
  },
  {
   "cell_type": "markdown",
   "metadata": {},
   "source": [
    "previsoes_teste = mlp(xph, w_final, b_final)\n",
    "\n",
    "with tf.Session() as sess:\n",
    "    sess.run(tf.global_variables_initializer())\n",
    "    r1 = sess.run(previsoes_teste, feed_dict = {xph: x_teste})\n",
    "    r2 = sess.run(tf.nn.softmax(r1))\n",
    "    r3 = sess.run(tf.argmax(r2, 1))\n",
    "    \n",
    "y_teste2 = np.argmax(y_teste, 1)\n",
    "from sklearn.metrics import accuracy_score\n",
    "taxa_acerto = accuracy_score(y_teste2, r3)\n",
    "taxa_acerto"
   ]
  },
  {
   "cell_type": "code",
   "execution_count": null,
   "metadata": {},
   "outputs": [],
   "source": []
  },
  {
   "cell_type": "code",
   "execution_count": null,
   "metadata": {},
   "outputs": [],
   "source": []
  }
 ],
 "metadata": {
  "celltoolbar": "Attachments",
  "kernelspec": {
   "display_name": "Python 3",
   "language": "python",
   "name": "python3"
  },
  "language_info": {
   "codemirror_mode": {
    "name": "ipython",
    "version": 3
   },
   "file_extension": ".py",
   "mimetype": "text/x-python",
   "name": "python",
   "nbconvert_exporter": "python",
   "pygments_lexer": "ipython3",
   "version": "3.7.10"
  }
 },
 "nbformat": 4,
 "nbformat_minor": 4
}
